{
  "nbformat": 4,
  "nbformat_minor": 0,
  "metadata": {
    "colab": {
      "name": "project_with_cnn",
      "provenance": [],
      "collapsed_sections": [],
      "include_colab_link": true
    },
    "kernelspec": {
      "name": "python3",
      "display_name": "Python 3"
    },
    "accelerator": "GPU"
  },
  "cells": [
    {
      "cell_type": "markdown",
      "metadata": {
        "id": "view-in-github",
        "colab_type": "text"
      },
      "source": [
        "<a href=\"https://colab.research.google.com/github/mlokendra/COMPRESSIVE-STRENGTH-OF-CONCRETE-USING-DEEP-LEARNING/blob/master/project_with_cnn.ipynb\" target=\"_parent\"><img src=\"https://colab.research.google.com/assets/colab-badge.svg\" alt=\"Open In Colab\"/></a>"
      ]
    },
    {
      "cell_type": "code",
      "metadata": {
        "id": "NxPpp7W6jSZc",
        "colab_type": "code",
        "colab": {}
      },
      "source": [
        "from google.colab import drive\n",
        "drive.mount(\"/content/drive/\")"
      ],
      "execution_count": null,
      "outputs": []
    },
    {
      "cell_type": "code",
      "metadata": {
        "id": "XSR0TLXMia1T",
        "colab_type": "code",
        "colab": {}
      },
      "source": [
        "%cd ./drive/My Drive/Lokendra\n",
        "!ls"
      ],
      "execution_count": null,
      "outputs": []
    },
    {
      "cell_type": "code",
      "metadata": {
        "id": "JnTx6ejcmwcW",
        "colab_type": "code",
        "colab": {}
      },
      "source": [
        "i=0\n",
        "from pydub import AudioSegment\n",
        "sound_file = AudioSegment.from_file(\"Silence (1).mp3\")\n",
        "# milliseconds in the sound track\n",
        "for x in range(0,len(sound_file),5000):\n",
        "    new_file = sound_file[x : x+5000]\n",
        "    new_file.export(\"silence\"+ str(i) +\".mp3\", format=\"mp3\")\n",
        "    i=i+1\n",
        "k=i"
      ],
      "execution_count": null,
      "outputs": []
    },
    {
      "cell_type": "code",
      "metadata": {
        "id": "cXBJn1WAo3Ec",
        "colab_type": "code",
        "colab": {}
      },
      "source": [
        "!pip install numpy"
      ],
      "execution_count": null,
      "outputs": []
    },
    {
      "cell_type": "code",
      "metadata": {
        "id": "VCNeGLtXsbI8",
        "colab_type": "code",
        "colab": {}
      },
      "source": [
        "import librosa\n",
        "import numpy as np"
      ],
      "execution_count": null,
      "outputs": []
    },
    {
      "cell_type": "markdown",
      "metadata": {
        "id": "Qf1MAck5wYyA",
        "colab_type": "text"
      },
      "source": [
        "**Extracting MFCC Features**"
      ]
    },
    {
      "cell_type": "code",
      "metadata": {
        "id": "gLOQqK7Rskyq",
        "colab_type": "code",
        "colab": {}
      },
      "source": [
        "def extract_mfcc(p):\n",
        "  lecture=[]\n",
        "  #data[0]=librosa.feature.mfcc(y=y, sr=sr, n_mfcc=20)\n",
        "  for x in range p:\n",
        "      name=x\n",
        "      y, sr = librosa.load(name)\n",
        "      arr=librosa.feature.mfcc(y=y, sr=sr, n_mfcc=20).T\n",
        "      lecture.append(arr)'''\n",
        "  returne lecture"
      ],
      "execution_count": null,
      "outputs": []
    },
    {
      "cell_type": "code",
      "metadata": {
        "id": "1aiaG6vfXJa7",
        "colab_type": "code",
        "colab": {}
      },
      "source": [
        "\n",
        "silence=[]\n",
        "%cd ./My Drive/\n",
        "for x in range(0,k):\n",
        "    name=\"silence\" + str(x) +\".mp3\"\n",
        "    y1, sr1 = librosa.load(name)\n",
        "    arr=librosa.feature.mfcc(y=y1, sr=sr1, n_mfcc=20).T\n",
        "    silence.append(arr)\n"
      ],
      "execution_count": null,
      "outputs": []
    },
    {
      "cell_type": "code",
      "metadata": {
        "id": "u-xI4qjSFwDt",
        "colab_type": "code",
        "colab": {}
      },
      "source": [
        "np_load_old = np.load\n",
        "\n",
        "# modify the default parameters of np.load\n",
        "np.load = lambda *a,**k: np_load_old(*a, allow_pickle=True, **k)"
      ],
      "execution_count": null,
      "outputs": []
    },
    {
      "cell_type": "code",
      "metadata": {
        "id": "-WtTeF1Q987b",
        "colab_type": "code",
        "colab": {}
      },
      "source": [
        "for i in range(len(silence)):\n",
        "  if silence[i].shape!=(216,20):\n",
        "    print(i,silence[i].shape)"
      ],
      "execution_count": null,
      "outputs": []
    },
    {
      "cell_type": "code",
      "metadata": {
        "id": "YNonh2B6-jBH",
        "colab_type": "code",
        "colab": {}
      },
      "source": [
        "#silence=np.delete(silence,367)"
      ],
      "execution_count": null,
      "outputs": []
    },
    {
      "cell_type": "code",
      "metadata": {
        "id": "hY33afsBfpFh",
        "colab_type": "code",
        "colab": {}
      },
      "source": [
        "silence=np.array(mlist)\n",
        "silence.shape"
      ],
      "execution_count": null,
      "outputs": []
    },
    {
      "cell_type": "code",
      "metadata": {
        "id": "fMdb7XTs80RN",
        "colab_type": "code",
        "colab": {}
      },
      "source": [
        "np.save('silence_mfcc',silence)"
      ],
      "execution_count": null,
      "outputs": []
    },
    {
      "cell_type": "code",
      "metadata": {
        "id": "04Oj7H1qeMtX",
        "colab_type": "code",
        "colab": {}
      },
      "source": [
        "mlist = [x for x in silence]"
      ],
      "execution_count": null,
      "outputs": []
    },
    {
      "cell_type": "code",
      "metadata": {
        "id": "gPvZDqIyetUH",
        "colab_type": "code",
        "colab": {}
      },
      "source": [
        "mlist = [x.reshape(1,x.shape[0],x.shape[1]) for x in mlist]"
      ],
      "execution_count": null,
      "outputs": []
    },
    {
      "cell_type": "code",
      "metadata": {
        "id": "OUaKG959bigg",
        "colab_type": "code",
        "colab": {}
      },
      "source": [
        "music1=np.array(music1)\n",
        "music1.shape"
      ],
      "execution_count": null,
      "outputs": []
    },
    {
      "cell_type": "code",
      "metadata": {
        "id": "XPQBj3Q6XjUf",
        "colab_type": "code",
        "colab": {}
      },
      "source": [
        "lecture=np.load('lecture_mfcc.npy',allow_pickle=True)\n",
        "lecture=np.array(lecture)\n"
      ],
      "execution_count": null,
      "outputs": []
    },
    {
      "cell_type": "code",
      "metadata": {
        "id": "fpm3Wwr5UZwP",
        "colab_type": "code",
        "colab": {}
      },
      "source": [
        "lecture1=lecture\n",
        "for i in range(len(lecture)):\n",
        "  if lecture[i].shape!=(216,20):\n",
        "    print(i,lecture[i].shape)"
      ],
      "execution_count": null,
      "outputs": []
    },
    {
      "cell_type": "code",
      "metadata": {
        "id": "dxv8s1PBqWHC",
        "colab_type": "code",
        "colab": {}
      },
      "source": [
        "llist=[x for x in lecture]\n",
        "len(llist)"
      ],
      "execution_count": null,
      "outputs": []
    },
    {
      "cell_type": "code",
      "metadata": {
        "id": "crGMnqW-rN3b",
        "colab_type": "code",
        "colab": {}
      },
      "source": [
        "lecture_mfcc=np.asarray(llist)\n",
        "lecture_mfcc.shape\n",
        "np.save('lecture_mfcc',lecture_mfcc)"
      ],
      "execution_count": null,
      "outputs": []
    },
    {
      "cell_type": "code",
      "metadata": {
        "id": "j0tMyuPEr58q",
        "colab_type": "code",
        "colab": {}
      },
      "source": [
        "lecture=np.load('lecture.npy',allow_pickle=True)\n",
        "lecture.shape"
      ],
      "execution_count": null,
      "outputs": []
    },
    {
      "cell_type": "code",
      "metadata": {
        "id": "sKYyFS0ufOgb",
        "colab_type": "code",
        "colab": {}
      },
      "source": [
        "for i in range(2311):\n",
        "  if lecture[i].shape!=(216,20):\n",
        "    lecture = np.delete(lecture,i)\n"
      ],
      "execution_count": null,
      "outputs": []
    },
    {
      "cell_type": "code",
      "metadata": {
        "id": "R1Q9cCxAgGSE",
        "colab_type": "code",
        "colab": {}
      },
      "source": [
        "lec=np.stack(lecture)"
      ],
      "execution_count": null,
      "outputs": []
    },
    {
      "cell_type": "code",
      "metadata": {
        "id": "MGe9g6v3rwXA",
        "colab_type": "code",
        "colab": {}
      },
      "source": [
        "lec.shape"
      ],
      "execution_count": null,
      "outputs": []
    },
    {
      "cell_type": "code",
      "metadata": {
        "id": "NDvNUL7Lr6KI",
        "colab_type": "code",
        "colab": {}
      },
      "source": [
        "music=np.load('music_mfcc.npy',allow_pickle=True)\n",
        "music.shape"
      ],
      "execution_count": null,
      "outputs": []
    },
    {
      "cell_type": "code",
      "metadata": {
        "id": "PdkHDLI7t7F0",
        "colab_type": "code",
        "colab": {}
      },
      "source": [
        "music1=np.load('guru1 (1).npy',allow_pickle=True)\n",
        "music1.shape"
      ],
      "execution_count": null,
      "outputs": []
    },
    {
      "cell_type": "code",
      "metadata": {
        "id": "F5o_EFTuuT1H",
        "colab_type": "code",
        "colab": {}
      },
      "source": [
        "music=np.concatenate((music1,music),axis=0)"
      ],
      "execution_count": null,
      "outputs": []
    },
    {
      "cell_type": "code",
      "metadata": {
        "id": "eSNlUGI9ADza",
        "colab_type": "code",
        "colab": {}
      },
      "source": [
        "silence=np.load('silence_mfcc.npy',allow_pickle=True)\n",
        "silence.shape"
      ],
      "execution_count": null,
      "outputs": []
    },
    {
      "cell_type": "code",
      "metadata": {
        "id": "W-PBi3F7-t9j",
        "colab_type": "code",
        "colab": {}
      },
      "source": [
        "Y_v=np.append(np.zeros(len(lecture),dtype=int),np.ones(len(music),dtype=int))\n",
        "Y_v=np.append(Y_v,2*np.ones(len(silence),dtype=int))\n",
        "print(Y_v)\n",
        "def oneHot(y, Ny):\n",
        "    Y=np.zeros(Ny)\n",
        "    Y[y]=1\n",
        "    return Y\n",
        "Ny = 3\n",
        "Y_o = np.array([oneHot(j,Ny) for j in Y_v])\n",
        "Y_o"
      ],
      "execution_count": null,
      "outputs": []
    },
    {
      "cell_type": "code",
      "metadata": {
        "id": "W1HBf3KJangW",
        "colab_type": "code",
        "colab": {}
      },
      "source": [
        "X=np.concatenate((lec,music,silence),axis=0)"
      ],
      "execution_count": null,
      "outputs": []
    },
    {
      "cell_type": "code",
      "metadata": {
        "id": "U7pFHdo1dX7w",
        "colab_type": "code",
        "colab": {}
      },
      "source": [
        "X.shape"
      ],
      "execution_count": null,
      "outputs": []
    },
    {
      "cell_type": "code",
      "metadata": {
        "id": "bewtklEl_fol",
        "colab_type": "code",
        "colab": {}
      },
      "source": [
        "from sklearn.model_selection import train_test_split\n",
        "X_train, X_test, y_train, y_test = train_test_split(X, Y_o, test_size=0.01)"
      ],
      "execution_count": null,
      "outputs": []
    },
    {
      "cell_type": "code",
      "metadata": {
        "id": "YtatWRc7PGRb",
        "colab_type": "code",
        "colab": {}
      },
      "source": [
        "X_train.shape"
      ],
      "execution_count": null,
      "outputs": []
    },
    {
      "cell_type": "markdown",
      "metadata": {
        "id": "rTrPciursgw5",
        "colab_type": "text"
      },
      "source": [
        "CNN MODEL"
      ]
    },
    {
      "cell_type": "code",
      "metadata": {
        "id": "lznR9n1QHvuw",
        "colab_type": "code",
        "colab": {}
      },
      "source": [
        "from numpy import asarray\n",
        "from keras.models import Sequential,Input,Model\n",
        "from keras.layers import Conv1D,Dense,MaxPool1D,Flatten,Dropout,Activation\n",
        "x = Input(shape=(216,20))\n",
        "y=Conv1D(16,(3),activation='relu',input_shape=(216,20))(x)\n",
        "y=Dense(8, activation='relu')(y)\n",
        "y=Conv1D(64,(3),activation='relu')(y)\n",
        "y=Dense(32, activation='relu')(y)\n",
        "#y=Conv1D(64,(3),activation='relu')(y)\n",
        "#y=Conv1D(128,(3),activation='relu')(y)\n",
        "y=MaxPool1D(2)(y)\n",
        "y=Dropout(0.5)(y)\n",
        "y=Flatten()(y)\n",
        "y=Dense(32, activation='relu')(y)\n",
        "y=Dense(3, activation='softmax')(y)\n",
        "model_cnn = Model(inputs=x, outputs=y)\n",
        "model_cnn.compile(optimizer='adam', loss='categorical_crossentropy', metrics=['accuracy'])\n",
        "model_cnn.summary()"
      ],
      "execution_count": null,
      "outputs": []
    },
    {
      "cell_type": "code",
      "metadata": {
        "id": "pbgp5yZmtPD4",
        "colab_type": "code",
        "colab": {}
      },
      "source": [
        "history = model_cnn.fit(X_train, y_train,validation_split = 0.2, epochs=5)"
      ],
      "execution_count": null,
      "outputs": []
    },
    {
      "cell_type": "markdown",
      "metadata": {
        "id": "kueZ46TyskLv",
        "colab_type": "text"
      },
      "source": [
        "NN MODEL"
      ]
    },
    {
      "cell_type": "code",
      "metadata": {
        "id": "4rQruqxgON6J",
        "colab_type": "code",
        "colab": {}
      },
      "source": [
        "from numpy import asarray\n",
        "from keras.models import Sequential\n",
        "from keras.layers import Conv1D,Dense,MaxPool1D,Dropout,Flatten\n",
        "model=Sequential()\n",
        "model.add(Conv1D(16,(3),activation='relu',input_shape=(216,20)))\n",
        "model.add(Conv1D(32,(3),activation='relu'))\n",
        "model.add(Conv1D(64,(3),activation='relu'))\n",
        "model.add(MaxPool1D(2))\n",
        "model.add(Dropout(0.5))\n",
        "model.add(Flatten())\n",
        "model.add(Dense(16, activation='relu'))\n",
        "model.add(Dense(3, activation='softmax'))\n",
        "model.summary()\n",
        "model.compile(optimizer='adam', loss='categorical_crossentropy', metrics=['accuracy'])"
      ],
      "execution_count": null,
      "outputs": []
    },
    {
      "cell_type": "code",
      "metadata": {
        "id": "kxhBZWDR2vei",
        "colab_type": "code",
        "colab": {}
      },
      "source": [
        "history = model.fit(X_train, y_train,validation_split = 0.2, epochs=5)"
      ],
      "execution_count": null,
      "outputs": []
    },
    {
      "cell_type": "markdown",
      "metadata": {
        "id": "yit4TuqbaE1q",
        "colab_type": "text"
      },
      "source": [
        "TEST MODEL"
      ]
    },
    {
      "cell_type": "code",
      "metadata": {
        "id": "9G6HAxMJhgfV",
        "colab_type": "code",
        "colab": {}
      },
      "source": [
        "''''y=np.array([oneHot(j,Ny) for j in np.zeros(len(data),dtype=int)])\n",
        "loss, accuracy = model.evaluate(data,y, verbose=0)  # Evaluate the model\n",
        "print('Accuracy :%0.3f'%accuracy)\n",
        "Y_pred = model.predict(data)\n",
        "print(Y_pred[3][0])\n",
        "for i in range(len(data)):\n",
        "  if Y_pred[i][0]<0.5:\n",
        "    print(i)\n",
        "#Confusion Matrix\n",
        "from sklearn.metrics import confusion_matrix\n",
        "print( confusion_matrix(y.argmax(axis=1), Y_pred.argmax(axis=1)))''''"
      ],
      "execution_count": null,
      "outputs": []
    },
    {
      "cell_type": "markdown",
      "metadata": {
        "id": "QKeA_pRut_xg",
        "colab_type": "text"
      },
      "source": [
        "Data preprocessing for Testing\n"
      ]
    },
    {
      "cell_type": "code",
      "metadata": {
        "id": "V6Fxs8RLuthc",
        "colab_type": "code",
        "colab": {}
      },
      "source": [
        "x1=np.load('guru2.npy')\n",
        "x2=np.load('kkkk.npy')\n",
        "x3=np.load('guru3.npy')\n",
        "x4=np.load('kbig1 (1).npy')\n",
        "music_t=np.concatenate((x2,x4),axis=0)\n",
        "lecture_t=np.concatenate((x1,x3),axis=0)"
      ],
      "execution_count": null,
      "outputs": []
    },
    {
      "cell_type": "code",
      "metadata": {
        "id": "UwR7ffna0D6e",
        "colab_type": "code",
        "colab": {}
      },
      "source": [
        "data=np.concatenate((lecture_t,music_t),axis=0)\n",
        "data.shape"
      ],
      "execution_count": null,
      "outputs": []
    },
    {
      "cell_type": "code",
      "metadata": {
        "id": "OOAn55rDawh8",
        "colab_type": "code",
        "colab": {}
      },
      "source": [
        "y=np.array([oneHot(j,Ny) for j in np.append(np.zeros(len(lecture_t),dtype=int),np.ones(len(music_t),dtype=int))])\n",
        "loss, accuracy = model.evaluate(data,y, verbose=0)  # Evaluate the model\n",
        "print('Accuracy :%0.3f'%accuracy)\n",
        "Y_pred = model.predict(data)\n",
        "#Confusion Matrix\n",
        "from sklearn.metrics import confusion_matrix\n",
        "print( confusion_matrix(y.argmax(axis=1), Y_pred.argmax(axis=1)))"
      ],
      "execution_count": null,
      "outputs": []
    },
    {
      "cell_type": "code",
      "metadata": {
        "id": "4JrUra-As7Oc",
        "colab_type": "code",
        "colab": {}
      },
      "source": [
        "y=np.array([oneHot(j,Ny) for j in np.append(np.zeros(len(lecture_t),dtype=int),np.ones(len(music_t),dtype=int))])\n",
        "loss, accuracy = model_cnn.evaluate(data,y, verbose=0)  # Evaluate the model\n",
        "print('Accuracy :%0.3f'%accuracy)\n",
        "Y_pred = model_cnn.predict(data)\n",
        "#Confusion Matrix\n",
        "from sklearn.metrics import confusion_matrix\n",
        "print( confusion_matrix(y.argmax(axis=1), Y_pred.argmax(axis=1)))"
      ],
      "execution_count": null,
      "outputs": []
    },
    {
      "cell_type": "code",
      "metadata": {
        "id": "TCjWFEdCwhcD",
        "colab_type": "code",
        "colab": {}
      },
      "source": [
        ""
      ],
      "execution_count": null,
      "outputs": []
    }
  ]
}